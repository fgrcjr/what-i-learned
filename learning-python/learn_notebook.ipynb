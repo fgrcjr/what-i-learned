{
 "cells": [
  {
   "cell_type": "code",
   "execution_count": 11,
   "metadata": {},
   "outputs": [],
   "source": [
    "import time\n",
    "import random\n",
    "import re\n",
    "import math\n",
    "import json\n",
    "\n",
    "from selenium import webdriver\n",
    "from selenium.webdriver.common.by import By\n",
    "from selenium.webdriver.support.ui import Select\n",
    "from selenium.webdriver.support.ui import WebDriverWait\n",
    "from selenium.webdriver.support import expected_conditions as EC\n",
    "from selenium.common.exceptions import NoSuchElementException\n",
    "\n",
    "from selenium.webdriver.chrome.options import Options\n",
    "from selenium.webdriver.chrome.service import Service\n",
    "from webdriver_manager.chrome import ChromeDriverManager\n",
    "\n",
    "from datetime import datetime, date as dt, time\n",
    "from geopy.geocoders import Nominatim\n",
    "from faker import Faker\n",
    "\n",
    "options = Options()\n",
    "options.add_argument('--disable-dev-shm-usage')\n",
    "driver = webdriver.Chrome(service=Service(ChromeDriverManager().install()), options=options)"
   ]
  },
  {
   "cell_type": "markdown",
   "metadata": {},
   "source": [
    "create subdivision name if null then create random subdivision"
   ]
  },
  {
   "cell_type": "markdown",
   "metadata": {},
   "source": [
    "go to lamudi page"
   ]
  },
  {
   "cell_type": "code",
   "execution_count": 12,
   "metadata": {},
   "outputs": [],
   "source": [
    "driver.maximize_window()\n",
    "driver.get(\"https://www.lamudi.com.ph/\")"
   ]
  },
  {
   "cell_type": "markdown",
   "metadata": {},
   "source": [
    "select House then proceed to next page"
   ]
  },
  {
   "cell_type": "code",
   "execution_count": 13,
   "metadata": {},
   "outputs": [],
   "source": [
    "select_house = WebDriverWait(driver, 10).until(EC.presence_of_element_located((By.XPATH, '//select[@class=\"SearchWidget-el\"]')))\n",
    "select_house.click()\n",
    "\n",
    "select = Select(select_house)\n",
    "select.select_by_visible_text('House')\n",
    "\n",
    "button_element = WebDriverWait(driver, 10).until(EC.element_to_be_clickable((By.XPATH, '//button[@class=\"SearchBar-button js-searchButton\"]')))\n",
    "button_element.click()"
   ]
  },
  {
   "cell_type": "markdown",
   "metadata": {},
   "source": [
    "Select price range that is below Php2.5M"
   ]
  },
  {
   "cell_type": "code",
   "execution_count": 14,
   "metadata": {},
   "outputs": [],
   "source": [
    "price_select = driver.find_element(By.XPATH, \"(//div[contains(@class,'UiDropDown-header')])[5]\")\n",
    "price_select.click()\n",
    "\n",
    "price_point = driver.find_element(By.XPATH, \"//li[normalize-space()='Below 2.5M']\")\n",
    "price_point.click()\n",
    "\n",
    "search = driver.find_element(By.XPATH, '//button[@class=\"UiButton  \"]')\n",
    "search.click()"
   ]
  },
  {
   "cell_type": "markdown",
   "metadata": {},
   "source": [
    "Check that pagination exist"
   ]
  },
  {
   "cell_type": "code",
   "execution_count": 15,
   "metadata": {},
   "outputs": [
    {
     "name": "stdout",
     "output_type": "stream",
     "text": [
      "Price: 2092127.4\n",
      "Category: house\n",
      "Bedrooms: 2\n",
      "Bathrooms: 1\n",
      "Building Size: 47\n",
      "Land Size: 41\n"
     ]
    }
   ],
   "source": [
    "try:\n",
    "    # Find the element with class 'ListingCell-AllInfo ListingUnit'\n",
    "    element = driver.find_element(By.XPATH, \"//div[@class='ListingCell-AllInfo ListingUnit']\")\n",
    "    # Extract data attributes from the element\n",
    "    price = element.get_attribute(\"data-price\")\n",
    "    category = element.get_attribute(\"data-category\")\n",
    "    bedrooms = element.get_attribute(\"data-bedrooms\")\n",
    "    bathrooms = element.get_attribute(\"data-bathrooms\")\n",
    "    building_size = element.get_attribute(\"data-building_size\")\n",
    "    land_size = element.get_attribute(\"data-land_size\")\n",
    "\n",
    "    # Output the extracted data\n",
    "    print(\"Price:\", price)\n",
    "    print(\"Category:\", category)\n",
    "    print(\"Bedrooms:\", bedrooms)\n",
    "    print(\"Bathrooms:\", bathrooms)\n",
    "    print(\"Building Size:\", building_size)\n",
    "    print(\"Land Size:\", land_size)\n",
    "except Exception as e:\n",
    "    print(\"Element not found or an error occurred:\", e)"
   ]
  }
 ],
 "metadata": {
  "kernelspec": {
   "display_name": "learning-playwright",
   "language": "python",
   "name": "python3"
  },
  "language_info": {
   "codemirror_mode": {
    "name": "ipython",
    "version": 3
   },
   "file_extension": ".py",
   "mimetype": "text/x-python",
   "name": "python",
   "nbconvert_exporter": "python",
   "pygments_lexer": "ipython3",
   "version": "3.11.6"
  }
 },
 "nbformat": 4,
 "nbformat_minor": 2
}
