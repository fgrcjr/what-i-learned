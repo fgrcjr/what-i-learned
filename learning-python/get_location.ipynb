{
 "cells": [
  {
   "cell_type": "code",
   "execution_count": 8,
   "metadata": {},
   "outputs": [],
   "source": [
    "from geopy.geocoders import Nominatim"
   ]
  },
  {
   "cell_type": "code",
   "execution_count": 9,
   "metadata": {},
   "outputs": [
    {
     "name": "stdout",
     "output_type": "stream",
     "text": [
      "Canary Street, San Agustin 2, San Agustin, Dasmariñas, Cavite, Calabarzon, 4114, Pilipinas\n",
      "Luna Street, Pinagbuklod, Imus, Cavite, Calabarzon, 4103, Pilipinas\n",
      "Treelane II Homeowners' Association Office, Macopa Street, Treelane II, Imus, Cavite, Calabarzon, 4103, Pilipinas\n",
      "72nd Street, Metrogate Dasmariñas, San Agustin 1, San Agustin, Dasmariñas, Cavite, Calabarzon, 4114, Pilipinas\n",
      "Pacific Boulevard, Paliparan 1, Paliparan, Dasmariñas, Cavite, Calabarzon, 4114, Pilipinas\n",
      "Sorrento Avenue, Camella Homes Sorrento, Bacoor, Cavite, Calabarzon, 4102, Pilipinas\n",
      "Bucandala II, Imus, Cavite, Calabarzon, 4103, Pilipinas\n"
     ]
    }
   ],
   "source": [
    "longitude = [120.95461369999998, 120.96443799999997, 120.93321919999994, 120.94334690000005, 120.98404720000008, 120.9530506, 120.9299016]\n",
    "latitude = [14.3153206, 14.394633, 14.4181619, 14.3006525, 14.2942507, 14.4490237, 14.3966493]\n",
    "\n",
    "geolocator = Nominatim(user_agent=\"reverse_geocoding\")\n",
    "\n",
    "for lat, long in zip(latitude, longitude):\n",
    "    location = geolocator.reverse((lat, long), exactly_one=True)\n",
    "    print(location)"
   ]
  }
 ],
 "metadata": {
  "kernelspec": {
   "display_name": "learning-playwright",
   "language": "python",
   "name": "python3"
  },
  "language_info": {
   "codemirror_mode": {
    "name": "ipython",
    "version": 3
   },
   "file_extension": ".py",
   "mimetype": "text/x-python",
   "name": "python",
   "nbconvert_exporter": "python",
   "pygments_lexer": "ipython3",
   "version": "3.11.6"
  }
 },
 "nbformat": 4,
 "nbformat_minor": 2
}
